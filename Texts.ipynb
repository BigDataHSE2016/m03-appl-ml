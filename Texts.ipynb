{
 "cells": [
  {
   "cell_type": "code",
   "execution_count": 1,
   "metadata": {
    "collapsed": false
   },
   "outputs": [
    {
     "name": "stderr",
     "output_type": "stream",
     "text": [
      "D:\\Anaconda3\\lib\\site-packages\\gensim\\utils.py:860: UserWarning: detected Windows; aliasing chunkize to chunkize_serial\n",
      "  warnings.warn(\"detected Windows; aliasing chunkize to chunkize_serial\")\n"
     ]
    }
   ],
   "source": [
    "import gensim"
   ]
  },
  {
   "cell_type": "code",
   "execution_count": 2,
   "metadata": {
    "collapsed": false
   },
   "outputs": [],
   "source": [
    "model = gensim.models.KeyedVectors.load_word2vec_format('wiki.simple.vec', binary=False)"
   ]
  },
  {
   "cell_type": "code",
   "execution_count": 3,
   "metadata": {
    "collapsed": false
   },
   "outputs": [
    {
     "data": {
      "text/plain": [
       "0.13316645742410424"
      ]
     },
     "execution_count": 3,
     "metadata": {},
     "output_type": "execute_result"
    }
   ],
   "source": [
    "model.similarity('feed', 'dog')"
   ]
  },
  {
   "cell_type": "code",
   "execution_count": 4,
   "metadata": {
    "collapsed": false
   },
   "outputs": [
    {
     "data": {
      "text/plain": [
       "0.27548014719532188"
      ]
     },
     "execution_count": 4,
     "metadata": {},
     "output_type": "execute_result"
    }
   ],
   "source": [
    "model.similarity('machine', 'learning')"
   ]
  },
  {
   "cell_type": "code",
   "execution_count": 5,
   "metadata": {
    "collapsed": false
   },
   "outputs": [
    {
     "data": {
      "text/plain": [
       "0.39463543203459928"
      ]
     },
     "execution_count": 5,
     "metadata": {},
     "output_type": "execute_result"
    }
   ],
   "source": [
    "model.similarity('neural', 'network')"
   ]
  },
  {
   "cell_type": "code",
   "execution_count": 6,
   "metadata": {
    "collapsed": false
   },
   "outputs": [
    {
     "data": {
      "text/plain": [
       "[('information}}', 0.561629056930542),\n",
       " ('information', 0.5131502151489258),\n",
       " ('compresssparsearray', 0.5049445629119873),\n",
       " ('dat', 0.49937811493873596),\n",
       " ('templates/failure', 0.49496155977249146),\n",
       " ('ocinsoutput', 0.4914175868034363),\n",
       " ('msata', 0.4899020791053772),\n",
       " ('informational', 0.4869983494281769),\n",
       " ('bytecode', 0.4858086407184601),\n",
       " ('datum', 0.48370909690856934),\n",
       " ('checksums', 0.4785846173763275),\n",
       " ('xff', 0.4760880768299103),\n",
       " ('informations', 0.4758045971393585),\n",
       " ('configuring', 0.46957388520240784),\n",
       " ('configure', 0.4693785011768341),\n",
       " ('input/output', 0.4682501554489136),\n",
       " ('configured', 0.4678024649620056),\n",
       " ('microformats}}', 0.4630933403968811),\n",
       " ('disks', 0.4620228111743927),\n",
       " ('geocaching', 0.4615589380264282),\n",
       " ('lightcurve', 0.46116903424263),\n",
       " ('}swiss', 0.4608173966407776),\n",
       " ('cleartext', 0.45995795726776123),\n",
       " ('smalltext', 0.457669198513031),\n",
       " ('lightcurves', 0.45686236023902893),\n",
       " ('checksum', 0.4552052319049835),\n",
       " ('datuk', 0.4540872275829315),\n",
       " ('microformats}}}}', 0.45294100046157837),\n",
       " ('computable', 0.4516921043395996),\n",
       " ('nssdc', 0.4485592842102051),\n",
       " ('chemoinformatics', 0.44732245802879333),\n",
       " ('read/write', 0.4472486972808838),\n",
       " ('lookups', 0.44660788774490356),\n",
       " ('formatfunc', 0.44626379013061523),\n",
       " ('bibcode', 0.4461847245693207),\n",
       " ('errortext', 0.4456220865249634),\n",
       " ('bad_input_mcode', 0.4442795515060425),\n",
       " ('analyzer', 0.44356733560562134),\n",
       " ('kbit/s', 0.44345420598983765),\n",
       " ('lookup', 0.4428112506866455),\n",
       " ('wabash', 0.44277939200401306),\n",
       " ('microformat', 0.4423758089542389),\n",
       " ('geocode', 0.4422999620437622),\n",
       " ('bad_output', 0.4407694637775421),\n",
       " ('informatics', 0.4395320415496826),\n",
       " ('pdfs', 0.4381287693977356),\n",
       " ('confirmation}}', 0.4377470016479492),\n",
       " ('m☉', 0.4368073344230652),\n",
       " ('gbit/s', 0.4367630183696747),\n",
       " ('configurable', 0.4356807470321655),\n",
       " ('sqr', 0.4350985288619995),\n",
       " ('mqv', 0.4342872202396393),\n",
       " ('rft', 0.434200644493103),\n",
       " ('musicbrainz', 0.43413329124450684),\n",
       " ('kdc', 0.4340784549713135),\n",
       " ('parserfunctions', 0.43342581391334534),\n",
       " ('pdb', 0.43333515524864197),\n",
       " ('sql', 0.43311139941215515),\n",
       " ('mbit/s', 0.432892382144928),\n",
       " ('redundancy', 0.43275773525238037),\n",
       " ('wmata', 0.43192964792251587),\n",
       " ('sizepopulation', 0.43190997838974),\n",
       " ('computed', 0.4318779408931732),\n",
       " ('wdc', 0.43149879574775696),\n",
       " ('geocacher', 0.43127018213272095),\n",
       " ('unformatted', 0.43123823404312134),\n",
       " ('population}', 0.4311782121658325),\n",
       " ('bit/s', 0.43059587478637695)]"
      ]
     },
     "execution_count": 6,
     "metadata": {},
     "output_type": "execute_result"
    }
   ],
   "source": [
    "[each for each in model.most_similar('data', topn=100) if 'data' not in each[0]]"
   ]
  },
  {
   "cell_type": "code",
   "execution_count": 7,
   "metadata": {
    "collapsed": false
   },
   "outputs": [
    {
     "data": {
      "text/plain": [
       "0.61212887433832275"
      ]
     },
     "execution_count": 7,
     "metadata": {},
     "output_type": "execute_result"
    }
   ],
   "source": [
    "from scipy.spatial.distance import cosine\n",
    "\n",
    "cosine(model['paris'] - model['france'] + model['germany'], model['moscow'])"
   ]
  },
  {
   "cell_type": "code",
   "execution_count": 35,
   "metadata": {
    "collapsed": false
   },
   "outputs": [],
   "source": [
    "def embed_sentence(sentence):\n",
    "    return sum([model.__getitem__(each) for each in sentence.lower().split() if each in model])"
   ]
  },
  {
   "cell_type": "code",
   "execution_count": 9,
   "metadata": {
    "collapsed": false
   },
   "outputs": [
    {
     "data": {
      "text/plain": [
       "0.27748477243713077"
      ]
     },
     "execution_count": 9,
     "metadata": {},
     "output_type": "execute_result"
    }
   ],
   "source": [
    "cosine(embed_sentence('Dmitry Medvedev'), embed_sentence('Vladimir Putin'))"
   ]
  },
  {
   "cell_type": "code",
   "execution_count": 10,
   "metadata": {
    "collapsed": true
   },
   "outputs": [],
   "source": [
    "import sklearn.datasets"
   ]
  },
  {
   "cell_type": "code",
   "execution_count": 11,
   "metadata": {
    "collapsed": false
   },
   "outputs": [
    {
     "name": "stderr",
     "output_type": "stream",
     "text": [
      "Download was incomplete, downloading again.\n",
      "Downloading dataset from http://people.csail.mit.edu/jrennie/20Newsgroups/20news-bydate.tar.gz (14 MB)\n"
     ]
    }
   ],
   "source": [
    "dataset = sklearn.datasets.fetch_20newsgroups()"
   ]
  },
  {
   "cell_type": "code",
   "execution_count": 15,
   "metadata": {
    "collapsed": false
   },
   "outputs": [],
   "source": [
    "data = dataset['data'][0].lower()"
   ]
  },
  {
   "cell_type": "code",
   "execution_count": 36,
   "metadata": {
    "collapsed": false
   },
   "outputs": [
    {
     "data": {
      "text/plain": [
       "array([  1.43213158e+01,  -2.47398376e-01,   9.46560669e+00,\n",
       "        -2.05199718e+01,   7.85323668e+00,   2.65890598e+01,\n",
       "        -1.24774561e+01,  -1.51351917e+00,   1.04779749e+01,\n",
       "         3.01415443e-01,   1.47044144e+01,   3.28429079e+00,\n",
       "        -1.20755835e+01,   7.97681379e+00,  -1.76251621e+01,\n",
       "        -7.17970133e-01,  -4.73439264e+00,   1.15536909e+01,\n",
       "        -2.38585453e+01,  -1.33625040e+01,   1.82337494e+01,\n",
       "         1.84280071e+01,  -1.82099037e+01,  -3.07001662e+00,\n",
       "        -4.05823326e+00,  -1.94374352e+01,   2.45194454e+01,\n",
       "        -1.35815315e+01,  -3.32398939e+00,   5.72629166e+00,\n",
       "         1.73984098e+00,   1.10748272e+01,   4.61733282e-01,\n",
       "         1.78544273e+01,  -1.34938967e+00,  -1.14658289e+01,\n",
       "        -4.14538765e+00,   3.56304832e-02,   2.77954125e+00,\n",
       "         6.36194468e+00,   7.29962063e+00,  -3.76629424e+00,\n",
       "         1.29943523e+01,  -8.65993309e+00,   1.49655924e+01,\n",
       "         5.21318436e-01,  -1.06836681e+01,  -2.70997763e+00,\n",
       "         7.32442045e+00,   1.03290129e+01,   3.44397873e-01,\n",
       "        -5.37207365e+00,  -1.57403946e+01,  -1.06107736e+00,\n",
       "        -7.86170006e+00,   4.59596634e+00,   8.72635937e+00,\n",
       "         1.43816013e+01,   7.23796940e+00,   5.05849934e+00,\n",
       "        -2.10158024e+01,   1.75341606e+01,  -7.09300709e+00,\n",
       "        -3.97264290e+00,  -1.92838421e+01,  -6.89714527e+00,\n",
       "        -2.32674809e+01,   3.73566914e+00,  -2.09547687e+00,\n",
       "        -2.79222012e+00,   2.83872652e+00,   1.17384834e+01,\n",
       "        -7.07399702e+00,   2.36401987e+00,   8.96079350e+00,\n",
       "        -1.86601295e+01,  -1.45940437e+01,  -1.09478779e+01,\n",
       "         1.60017452e+01,   5.22900915e+00,  -5.72653770e+00,\n",
       "        -4.29344088e-01,  -3.54518604e+00,   1.28963780e+00,\n",
       "        -1.32491255e+01,   3.27518177e+00,   5.10868728e-01,\n",
       "        -8.31727028e+00,  -2.87265038e+00,  -2.29114590e+01,\n",
       "         2.39524245e-03,  -7.57931232e-01,   2.86692619e+00,\n",
       "        -2.79348850e+00,   9.65137959e-01,   4.36367083e+00,\n",
       "        -3.18644371e+01,   2.46532269e+01,   1.08924856e+01,\n",
       "         1.64538994e+01,   1.02358265e+01,  -2.32746334e+01,\n",
       "        -8.91752243e+00,   1.92308350e+01,  -5.88825607e+00,\n",
       "         1.32434368e+01,   5.02960205e+00,  -9.25974941e+00,\n",
       "         6.43889427e+00,  -1.91358447e+00,  -2.40497494e+00,\n",
       "         4.49912882e+00,  -4.83209801e+00,  -7.73669291e+00,\n",
       "        -5.18247986e+00,  -1.03195114e+01,   6.73992109e+00,\n",
       "         2.02830486e+01,  -6.74826097e+00,  -3.26186848e+00,\n",
       "         7.24236822e+00,  -2.16872025e+00,   7.03022099e+00,\n",
       "         2.72018886e+00,  -2.54321041e+01,  -3.21333733e+01,\n",
       "         1.42523861e+01,   4.26299334e+00,  -4.91380215e+00,\n",
       "         7.62063694e+00,   6.44702005e+00,  -1.41510153e+01,\n",
       "        -9.51729584e+00,  -7.14915943e+00,  -9.91890717e+00,\n",
       "         1.80669613e+01,  -1.49674072e+01,  -1.65730584e+00,\n",
       "        -1.07185879e+01,   1.29196119e+00,  -1.30738401e+01,\n",
       "         2.11407738e+01,   2.62687721e+01,   1.98825130e+01,\n",
       "         1.76023846e+01,  -7.84049082e+00,  -7.08823729e+00,\n",
       "        -2.04367638e+00,  -8.70034218e+00,  -6.64789677e+00,\n",
       "         5.13940668e+00,  -1.61825657e+01,   1.44027853e+01,\n",
       "        -5.81946182e+00,   2.05141563e+01,   5.50001097e+00,\n",
       "        -1.68289433e+01,   1.60326824e+01,   1.02764807e+01,\n",
       "         2.43890095e+01,   3.64313316e+00,  -2.41514134e+00,\n",
       "         2.02918386e+00,  -6.24106646e+00,   3.07942986e+00,\n",
       "        -5.64308167e+00,  -7.16552210e+00,  -1.24400263e+01,\n",
       "         7.77828217e+00,   8.09037209e+00,   3.67582226e+00,\n",
       "        -1.00523257e+00,  -2.03418541e+00,   9.24027252e+00,\n",
       "        -1.25001593e+01,   6.18536949e+00,   7.28018045e+00,\n",
       "        -1.16700182e+01,   7.58584452e+00,  -1.29393578e+01,\n",
       "        -2.78183327e+01,  -5.23895121e+00,  -1.06812487e+01,\n",
       "         1.80167522e+01,   4.42793989e+00,  -9.80043221e+00,\n",
       "        -1.68955314e+00,   1.85984955e+01,  -6.64748478e+00,\n",
       "         3.74067783e-01,  -1.51845622e+00,   6.32286692e+00,\n",
       "         2.03860874e+01,   1.12812176e+01,  -6.09476900e+00,\n",
       "        -7.38107872e+00,  -4.69734306e+01,  -3.17370117e-01,\n",
       "        -1.32994671e+01,  -1.34796162e+01,   2.46538029e+01,\n",
       "         8.99995232e+00,   3.83264923e+00,  -8.01241207e+00,\n",
       "         8.13793468e+00,  -6.41994429e+00,  -5.50256252e+00,\n",
       "        -1.22335815e+01,  -1.58756571e+01,  -1.42330093e+01,\n",
       "        -1.79980412e+01,   5.86870956e+00,   1.44759607e+01,\n",
       "        -6.30402708e+00,  -4.07989740e+00,   9.42976379e+00,\n",
       "         3.95891070e+00,  -2.81481743e+00,   9.23286629e+00,\n",
       "        -4.54657364e+00,  -4.77227592e+00,  -1.03760743e+00,\n",
       "         1.98716819e-02,   9.11893368e+00,  -2.52580810e+00,\n",
       "        -6.80307722e+00,  -8.41905594e+00,  -2.08559179e+00,\n",
       "        -5.36772394e+00,   1.47399845e+01,   3.68382633e-02,\n",
       "         2.72538738e+01,  -4.02407074e+00,  -3.49761462e+00,\n",
       "        -2.40933800e+00,  -1.58153658e+01,   9.77171779e-01,\n",
       "        -9.39262807e-01,  -1.33958845e+01,  -6.36201048e+00,\n",
       "         2.43971405e+01,   5.21876097e+00,  -4.90032053e+00,\n",
       "         7.97248793e+00,   9.84418201e+00,  -1.33738213e+01,\n",
       "        -3.25378656e+00,  -2.29844189e+01,  -8.13935184e+00,\n",
       "         2.10987587e+01,  -3.80806088e+00,   3.06057014e+01,\n",
       "        -6.71714640e+00,  -6.96750593e+00,  -1.17224588e+01,\n",
       "        -1.65845261e+01,  -5.43387079e+00,   2.54028702e+01,\n",
       "        -1.43901701e+01,   2.69626198e+01,   4.58201408e+00,\n",
       "        -8.41580200e+00,   2.94750905e+00,   3.05504303e+01,\n",
       "         4.64110088e+00,   6.90989542e+00,   3.85246944e+00,\n",
       "        -1.38911829e+01,   3.68727374e+00,  -2.03796043e+01,\n",
       "        -1.43255072e+01,   6.02428913e-01,   1.93349495e+01,\n",
       "        -9.20401216e-01,   1.48490638e-01,   4.17623472e+00,\n",
       "         2.97585988e+00,  -1.78829460e+01,   1.31141834e+01,\n",
       "         7.14014244e+00,   3.64954686e+00,   4.12596512e+00,\n",
       "        -1.06011066e+01,  -7.67949820e+00,  -1.65485430e+00,\n",
       "         1.41870899e+01,   5.08245373e+00,   1.49165392e+01,\n",
       "        -1.53623104e+01,   3.80877733e+00,  -3.13191921e-01,\n",
       "        -2.20992012e+01,  -4.43289709e+00,   3.72392607e+00,\n",
       "        -3.67990422e+00,   2.16732478e+00,  -1.70917702e+01,\n",
       "        -9.71458435e+00,  -9.51113701e+00,  -1.40325365e+01], dtype=float32)"
      ]
     },
     "execution_count": 36,
     "metadata": {},
     "output_type": "execute_result"
    }
   ],
   "source": [
    "import re\n",
    "embed_sentence(re.sub('[;:\\n!?\\-\\,@/.()]', ' ', data))"
   ]
  },
  {
   "cell_type": "code",
   "execution_count": null,
   "metadata": {
    "collapsed": true
   },
   "outputs": [],
   "source": []
  },
  {
   "cell_type": "code",
   "execution_count": null,
   "metadata": {
    "collapsed": true
   },
   "outputs": [],
   "source": []
  }
 ],
 "metadata": {
  "anaconda-cloud": {},
  "kernelspec": {
   "display_name": "Python [default]",
   "language": "python",
   "name": "python3"
  },
  "language_info": {
   "codemirror_mode": {
    "name": "ipython",
    "version": 3
   },
   "file_extension": ".py",
   "mimetype": "text/x-python",
   "name": "python",
   "nbconvert_exporter": "python",
   "pygments_lexer": "ipython3",
   "version": "3.5.2"
  }
 },
 "nbformat": 4,
 "nbformat_minor": 1
}
